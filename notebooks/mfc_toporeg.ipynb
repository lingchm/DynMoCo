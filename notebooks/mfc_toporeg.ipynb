{
 "cells": [
  {
   "cell_type": "markdown",
   "id": "b73fae2c",
   "metadata": {},
   "source": [
    "##### https://github.com/kundtx/MFC-TopoReg"
   ]
  },
  {
   "cell_type": "code",
   "execution_count": 1,
   "id": "d43760e5",
   "metadata": {},
   "outputs": [],
   "source": [
    "import os \n",
    "os.chdir(\"..\")"
   ]
  },
  {
   "cell_type": "code",
   "execution_count": null,
   "id": "df533b95",
   "metadata": {},
   "outputs": [],
   "source": [
    "import numpy as np\n",
    "import pandas as pd\n",
    "from matplotlib import pyplot as plt\n",
    "import json\n",
    "\n",
    "from utils.visualization import plot_molecules, plot_molecule\n",
    "from utils.preprocessing import get_average_trajectory_positions, get_time_distance_matrix\n",
    "import processor.data as data_processor\n",
    "import processor.graph as graph_processor\n",
    "import utils.metrics as metrics\n",
    "from utils.export import *"
   ]
  },
  {
   "cell_type": "code",
   "execution_count": 3,
   "id": "eef02ca9",
   "metadata": {},
   "outputs": [
    {
     "name": "stdout",
     "output_type": "stream",
     "text": [
      "GPU not available. Using CPU.\n"
     ]
    }
   ],
   "source": [
    "import torch\n",
    "\n",
    "if torch.cuda.is_available():\n",
    "    device = torch.device(\"cuda\")\n",
    "    print(\"GPU is available. Using:\", torch.cuda.get_device_name(0))\n",
    "else:\n",
    "    device = torch.device(\"cpu\")\n",
    "    print(\"GPU not available. Using CPU.\")"
   ]
  },
  {
   "cell_type": "markdown",
   "id": "65fae705",
   "metadata": {},
   "source": [
    "# Load data"
   ]
  },
  {
   "cell_type": "code",
   "execution_count": null,
   "id": "2925b7b1",
   "metadata": {},
   "outputs": [],
   "source": [
    "integrin = \"a5b1\"    # \"a5b1\"\n",
    "data_type = \"clamp\"  # Ramp \n",
    "u, extensions, config = data_processor.load_data(data_type, integrin)"
   ]
  },
  {
   "cell_type": "code",
   "execution_count": null,
   "id": "fcb53483",
   "metadata": {},
   "outputs": [],
   "source": [
    "# define domains \n",
    "ext = extensions[0]\n",
    "\n",
    "if integrin == \"aVb3\":\n",
    "    domain_to_residues = {\n",
    "        \"beta-propeller\": u[0][ext].select_atoms(f\"protein and name CA and segid A and resid 1-438\").atoms.resindices,\n",
    "        \"thigh\": u[0][ext].select_atoms(f\"protein and name CA and segid A and resid 439-592\").atoms.resindices,\n",
    "        \"loopA\": u[0][ext].select_atoms(f\"protein and name CA and segid A and resid 593-601\").atoms.resindices,\n",
    "        \"calf1\": u[0][ext].select_atoms(f\"protein and name CA and segid A and resid 602-738\").atoms.resindices,\n",
    "        \"calf2\": u[0][ext].select_atoms(f\"protein and name CA and segid A and resid 739-967\").atoms.resindices,\n",
    "        \"transmembrane-alpha\": u[0][ext].select_atoms(f\"name CA and segid A and resid 968-984\").atoms.resindices,\n",
    "        \"cytoplasmic-alpha\": u[0][ext].select_atoms(f\"name CA and segid A and resid 985-1016\").atoms.resindices,\n",
    "        \"psi\": u[0][ext].select_atoms(f\"protein and name CA and segid B and resid 1-56\").atoms.resindices,\n",
    "        \"hybrid\": u[0][ext].select_atoms(f\"protein and name CA and segid B and (resid 57-108 or resid 353-433)\").atoms.resindices,\n",
    "        \"betaI\": u[0][ext].select_atoms(f\"protein and name CA and segid B and resid 109-352\").atoms.resindices,\n",
    "        \"loopB\": u[0][ext].select_atoms(f\"protein and name CA and segid B and resid 434-436\").atoms.resindices,\n",
    "        \"egf1\": u[0][ext].select_atoms(f\"protein and name CA and segid B and resid 437-472\").atoms.resindices,\n",
    "        \"egf2\": u[0][ext].select_atoms(f\"protein and name CA and segid B and resid 473-522\").atoms.resindices,\n",
    "        \"egf3\": u[0][ext].select_atoms(f\"protein and name CA and segid B and resid 523-559\").atoms.resindices,\n",
    "        \"egf4\": u[0][ext].select_atoms(f\"protein and name CA and segid B and resid 560-600\").atoms.resindices,\n",
    "        \"betaTD\": u[0][ext].select_atoms(f\"protein and name CA and segid B and resid 601-695\").atoms.resindices,\n",
    "        \"transmembrane-beta\": u[0][ext].select_atoms(f\"protein and name CA and segid B and resid 696-725\").atoms.resindices,\n",
    "        \"cytoplasmic-beta\": u[0][ext].select_atoms(f\"protein and name CA and segid B and resid 726-763\").atoms.resindices,\n",
    "    }\n",
    "    \n",
    "elif integrin == \"alphaVbeta3\":\n",
    "    domain_to_residues = {\n",
    "        \"beta-propeller\": u[0][ext].select_atoms(f\"protein and name CA and segid A and resid 1-438\").atoms.resindices,\n",
    "        \"thigh\": u[0][ext].select_atoms(f\"protein and name CA and segid A and resid 439-592\").atoms.resindices,\n",
    "        \"loopA\": u[0][ext].select_atoms(f\"protein and name CA and segid A and resid 593-601\").atoms.resindices,\n",
    "        \"calf1\": u[0][ext].select_atoms(f\"protein and name CA and segid A and resid 602-738\").atoms.resindices,\n",
    "        \"calf2\": u[0][ext].select_atoms(f\"protein and name CA and segid A and resid 739-956\").atoms.resindices,\n",
    "        \"transmembrane-alpha\": u[0][ext].select_atoms(f\"name CA and segid A and resid 957-984\").atoms.resindices,\n",
    "        # \"calf2\": u[0][ext].select_atoms(f\"protein and name CA and segid A and resid 739-967\").atoms.resindices,\n",
    "        # \"transmembrane-alpha\": u[0][ext].select_atoms(f\"name CA and segid A and resid 968-984\").atoms.resindices,\n",
    "        \"cytoplasmic-alpha\": u[0][ext].select_atoms(f\"name CA and segid A and resid 985-1016\").atoms.resindices,\n",
    "        \"psi\": u[0][ext].select_atoms(f\"protein and name CA and segid B and resid 1-56\").atoms.resindices,\n",
    "        \"hybrid\": u[0][ext].select_atoms(f\"protein and name CA and segid B and (resid 57-108 or resid 353-433)\").atoms.resindices,\n",
    "        \"betaI\": u[0][ext].select_atoms(f\"protein and name CA and segid B and resid 109-352\").atoms.resindices,\n",
    "        \"loopB\": u[0][ext].select_atoms(f\"protein and name CA and segid B and resid 434-436\").atoms.resindices,\n",
    "        \"egf1\": u[0][ext].select_atoms(f\"protein and name CA and segid B and resid 437-472\").atoms.resindices,\n",
    "        \"egf2\": u[0][ext].select_atoms(f\"protein and name CA and segid B and resid 473-522\").atoms.resindices,\n",
    "        \"egf3\": u[0][ext].select_atoms(f\"protein and name CA and segid B and resid 523-559\").atoms.resindices,\n",
    "        \"egf4\": u[0][ext].select_atoms(f\"protein and name CA and segid B and resid 560-600\").atoms.resindices,\n",
    "        \"betaTD\": u[0][ext].select_atoms(f\"protein and name CA and segid B and resid 601-692\").atoms.resindices,\n",
    "        \"transmembrane-beta\": u[0][ext].select_atoms(f\"name CA and segid B and resid 693-725\").atoms.resindices,\n",
    "        # \"betaTD\": u[0][ext].select_atoms(f\"protein and name CA and segid B and resid 601-695\").atoms.resindices,\n",
    "        # \"transmembrane-beta\": u[0][ext].select_atoms(f\"protein and name CA and segid B and resid 696-725\").atoms.resindices,\n",
    "        \"cytoplasmic-beta\": u[0][ext].select_atoms(f\"protein and name CA and segid B and resid 726-763\").atoms.resindices,\n",
    "    }\n",
    "    \n",
    "elif integrin == \"a5b1\":\n",
    "    domain_to_residues = {\n",
    "        \"beta-propeller\": u[0][ext].select_atoms(f\"protein and name CA and segid A and resid 1-449\").atoms.resindices,\n",
    "        \"thigh\": u[0][ext].select_atoms(f\"protein and name CA and segid A and resid 450-602\").atoms.resindices,\n",
    "        \"loopA\": u[0][ext].select_atoms(f\"protein and name CA and segid A and resid 603-611\").atoms.resindices,\n",
    "        \"calf1\": u[0][ext].select_atoms(f\"protein and name CA and segid A and resid 612-748\").atoms.resindices,\n",
    "        \"calf2\": u[0][ext].select_atoms(f\"protein and name CA and segid A and resid 749-947\").atoms.resindices,\n",
    "        \"betaI\": u[0][ext].select_atoms(f\"protein and name CA and segid B and resid 121-360\").atoms.resindices,\n",
    "        \"hybrid\": u[0][ext].select_atoms(f\"protein and name CA and segid B and (resid 65-120 or resid 361-441)\").atoms.resindices,\n",
    "        \"psi\": u[0][ext].select_atoms(f\"protein and name CA and segid B and resid 1-64\").atoms.resindices,\n",
    "        \"loopB\": u[0][ext].select_atoms(f\"protein and name CA and segid B and resid 442-444\").atoms.resindices,\n",
    "        \"egf1\": u[0][ext].select_atoms(f\"protein and name CA and segid B and resid 445-480\").atoms.resindices,\n",
    "        \"egf2\": u[0][ext].select_atoms(f\"protein and name CA and segid B and resid 481-533\").atoms.resindices,\n",
    "        \"egf3\": u[0][ext].select_atoms(f\"protein and name CA and segid B and resid 534-570\").atoms.resindices,\n",
    "        \"egf4\": u[0][ext].select_atoms(f\"protein and name CA and segid B and resid 571-610\").atoms.resindices,\n",
    "        \"betaTD\": u[0][ext].select_atoms(f\"protein and name CA and segid B and resid 611-703\").atoms.resindices\n",
    "    }\n",
    "    \n",
    "elif integrin == \"alpha2bbeta3\":\n",
    "    # https://www.cell.com/molecular-cell/fulltext/S1097-2765(08)00839-3?_returnURL=https%3A%2F%2Flinkinghub.elsevier.com%2Fretrieve%2Fpii%2FS1097276508008393%3Fshowall%3Dtrue \n",
    "    # Zhu, Jianghai, et al. \"Structure of a complete integrin ectodomain in a physiologic resting state and activation and deactivation by applied forces.\" Molecular cell 32.6 (2008): 849-861.\n",
    "    domain_to_residues = {\n",
    "        \"beta-propeller\": u[0][ext].select_atoms(f\"protein and name CA and segid A and resid 1-451\").atoms.resindices,\n",
    "        \"thigh\": u[0][ext].select_atoms(f\"protein and name CA and segid A and resid 452-601\").atoms.resindices,\n",
    "        \"calf1\": u[0][ext].select_atoms(f\"protein and name CA and segid A and resid 602-743\").atoms.resindices,\n",
    "        \"calf2\": u[0][ext].select_atoms(f\"protein and name CA and segid A and resid 744-965\").atoms.resindices,\n",
    "        \"transmembrane-alpha\": u[0][ext].select_atoms(f\"name CA and segid A and resid 966-1080\").atoms.resindices,\n",
    "        \"cytoplasmic-alpha\": u[0][ext].select_atoms(f\"name CA and segid A and resid 989-1080\").atoms.resindices,\n",
    "        \"psi\": u[0][ext].select_atoms(f\"protein and name CA and segid B and resid 1008-1063\").atoms.resindices,\n",
    "        \"hybrid\": u[0][ext].select_atoms(f\"protein and name CA and segid B and (resid 1064-1115 or resid 1360-1440)\").atoms.resindices,\n",
    "        \"betaI\": u[0][ext].select_atoms(f\"protein and name CA and segid B and resid 1116-1359\").atoms.resindices,\n",
    "        \"egf1\": u[0][ext].select_atoms(f\"protein and name CA and segid B and resid 1444-1479\").atoms.resindices,\n",
    "        \"egf2\": u[0][ext].select_atoms(f\"protein and name CA and segid B and resid 1480-1529\").atoms.resindices,\n",
    "        \"egf3\": u[0][ext].select_atoms(f\"protein and name CA and segid B and resid 1530-1566\").atoms.resindices,\n",
    "        \"egf4\": u[0][ext].select_atoms(f\"protein and name CA and segid B and resid 1567-1607\").atoms.resindices,\n",
    "        \"betaTD\": u[0][ext].select_atoms(f\"protein and name CA and segid B and resid 1608-1699\").atoms.resindices,\n",
    "        \"transmembrane-beta\": u[0][ext].select_atoms(f\"name CA and segid B and resid 1700-1732\").atoms.resindices,\n",
    "        \"cytoplasmic-beta\": u[0][ext].select_atoms(f\"name CA and segid B and resid 1733-1770\").atoms.resindices,\n",
    "    }\n",
    "else:\n",
    "    domain_to_residues = {\n",
    "        \"molecule\": u[0][ext].select_atoms(f\"protein and name CA\").atoms.resindices,\n",
    "    }\n",
    "    \n",
    "residue_to_domain = {}\n",
    "for domain, residues in domain_to_residues.items():\n",
    "    for residue in residues:\n",
    "        residue_to_domain[residue] = domain\n",
    "\n",
    "domain_to_chain = {\n",
    "    'beta-propeller': \"A\", \n",
    "    'thigh': \"A\", \n",
    "    'loopA': \"A\", \n",
    "    'calf1': \"A\", \n",
    "    'calf2': \"A\", \n",
    "    'transmembrane-alpha': \"A\", \n",
    "    'cytoplasmic-alpha': \"A\", \n",
    "    'psi': \"B\", \n",
    "    'hybrid': \"B\",\n",
    "    'betaI': \"B\", \n",
    "    'loopB': \"B\", \n",
    "    'egf1': \"B\", \n",
    "    'egf2': \"B\", \n",
    "    'egf3': \"B\", \n",
    "    'egf4': \"B\", \n",
    "    'betaTD': \"B\", \n",
    "    'transmembrane-beta': \"B\", \n",
    "    'cytoplasmic-beta': \"B\"\n",
    "}"
   ]
  },
  {
   "cell_type": "code",
   "execution_count": null,
   "id": "a9da5f9c",
   "metadata": {},
   "outputs": [],
   "source": [
    "# construct molecular graph sequence \n",
    "graph_sequences, dygraph_sequences, resindices_to_index, dist_matrices = graph_processor.contruct_graph_dygraph(\n",
    "    u=u,\n",
    "    extensions=extensions,\n",
    "    config=config,\n",
    "    residue_to_domain=residue_to_domain,\n",
    "    warm_up_frames=1,\n",
    "    node_attributes=\"coords\",\n",
    "    bound_thd = 5, \n",
    "    pval_thd = 1e-5\n",
    ")"
   ]
  },
  {
   "cell_type": "markdown",
   "id": "7a76661a",
   "metadata": {},
   "source": [
    "# Run model"
   ]
  },
  {
   "cell_type": "code",
   "execution_count": null,
   "id": "f36b1ef3",
   "metadata": {},
   "outputs": [],
   "source": [
    "import processor.model as model_processor"
   ]
  },
  {
   "cell_type": "code",
   "execution_count": 66,
   "id": "941f9d02",
   "metadata": {},
   "outputs": [],
   "source": [
    "##########\n",
    "class Args(dict):\n",
    "    def __init__(self, n_cluster, file_name=None, network_type=\"MFC\") -> None:\n",
    "        # self.encoded_space_dim = 50\n",
    "        # self.n_cluster = n_cluster  # clusters\n",
    "        # self.num_epoch = 701 #1000\n",
    "        # self.learning_rate = 0.001 # for topo\n",
    "        # self.LAMBDA = 1\n",
    "        # self.card = 20 # num of ph considered\n",
    "        # self.file_name = file_name\n",
    "        # self.network_type = network_type\n",
    "        # self.start_mf = 500\n",
    "        \n",
    "        self.encoded_space_dim = 50\n",
    "        self.n_cluster = 29  # clusters\n",
    "        self.num_epoch = 701 #1000\n",
    "        self.learning_rate = 0.001 # for topo\n",
    "        self.LAMBDA = 1\n",
    "        self.card = 40 # num of ph considered\n",
    "        self.file_name = file_name\n",
    "        self.network_type = network_type\n",
    "        self.start_mf = 500"
   ]
  },
  {
   "cell_type": "code",
   "execution_count": null,
   "id": "725a445d",
   "metadata": {},
   "outputs": [],
   "source": [
    "model_init = model_processor.InitModel(device=device)"
   ]
  },
  {
   "cell_type": "code",
   "execution_count": 69,
   "id": "ebe03cea",
   "metadata": {},
   "outputs": [
    {
     "name": "stdout",
     "output_type": "stream",
     "text": [
      "4\n",
      "14\n",
      "(1609, 1609)\n",
      "torch.Size([1609, 1609])\n",
      "1609\n"
     ]
    }
   ],
   "source": [
    "# graph_sequences[rep] : list (nx.Graph for each timestep)\n",
    "# residue_to_domain : dict, {node_id: domain_name}\n",
    "rep = 0\n",
    "\n",
    "snapshot_list, n_cluster = graph_processor.md_graphs_to_mfc_format(\n",
    "    graph_sequence=graph_sequences[rep],\n",
    "    residue_to_domain=residue_to_domain,\n",
    "    device=device\n",
    ")\n",
    "\n",
    "print(len(snapshot_list))   # num of snapshots (time step)\n",
    "print(n_cluster)        # num of labels (clusters)\n",
    "\n",
    "# check first snapshot\n",
    "adj, features, labels = snapshot_list[0]\n",
    "print(adj.shape)        # adjacency size\n",
    "print(features.shape)   # feature size\n",
    "print(len(labels))      # num of nodes"
   ]
  },
  {
   "cell_type": "code",
   "execution_count": 70,
   "id": "1fe71b1f",
   "metadata": {},
   "outputs": [],
   "source": [
    "# pip install gudhi\n",
    "# pip install pot\n",
    "from processor.filtration import WrcfLayer\n",
    "\n",
    "args = Args(n_cluster, file_name=None, network_type=\"MFC\") # fix 20 cluster or assume known n_cluster\n",
    "model_list = []\n",
    "dgm_list = []\n",
    "wrcf_layer_dim0 = WrcfLayer(dim=0, card=args.card)\n",
    "wrcf_layer_dim1 = WrcfLayer(dim=1, card=args.card)\n",
    "\n",
    "from processor.trainer import base_train, retrain_with_topo\n",
    "from processor.filtration import build_community_graph\n",
    "\n",
    "results_raw = [] \n",
    "results_topo = []"
   ]
  },
  {
   "cell_type": "code",
   "execution_count": 71,
   "id": "12eea85e",
   "metadata": {},
   "outputs": [
    {
     "name": "stdout",
     "output_type": "stream",
     "text": [
      "Epoch: 0001 extra_loss= 0.00000 re_loss= 0.69248 train_acc= 0.00166 time= 0.04215\n",
      "Epoch: 0101 extra_loss= 0.00000 re_loss= 0.65146 train_acc= 0.00231 time= 0.01078\n",
      "Epoch: 0201 extra_loss= 0.00000 re_loss= 0.60464 train_acc= 0.00958 time= 0.01227\n",
      "Epoch: 0301 extra_loss= 0.00000 re_loss= 0.57197 train_acc= 0.03030 time= 0.01268\n",
      "Epoch: 0401 extra_loss= 0.00000 re_loss= 0.54060 train_acc= 0.06470 time= 0.01165\n",
      "Epoch: 0501 extra_loss= 0.00000 re_loss= 0.51372 train_acc= 0.12049 time= 0.01238\n",
      "Epoch: 0601 extra_loss= 0.02863 re_loss= 0.49610 train_acc= 0.20428 time= 0.01631\n",
      "Epoch: 0701 extra_loss= 0.02963 re_loss= 0.48068 train_acc= 0.29125 time= 0.01603\n",
      "Epoch: 0001 extra_loss= 0.00000 re_loss= 0.69247 train_acc= 0.00167 time= 0.01232\n",
      "Epoch: 0101 extra_loss= 0.00000 re_loss= 0.65112 train_acc= 0.00196 time= 0.01308\n",
      "Epoch: 0201 extra_loss= 0.00000 re_loss= 0.60436 train_acc= 0.00819 time= 0.01117\n",
      "Epoch: 0301 extra_loss= 0.00000 re_loss= 0.57191 train_acc= 0.02966 time= 0.01157\n",
      "Epoch: 0401 extra_loss= 0.00000 re_loss= 0.54047 train_acc= 0.06420 time= 0.01074\n",
      "Epoch: 0501 extra_loss= 0.00000 re_loss= 0.51388 train_acc= 0.12050 time= 0.01086\n",
      "Epoch: 0601 extra_loss= 0.02877 re_loss= 0.49694 train_acc= 0.20167 time= 0.01400\n",
      "Epoch: 0701 extra_loss= 0.02967 re_loss= 0.48184 train_acc= 0.28418 time= 0.01638\n",
      "Epoch: 0001 extra_loss= 0.00000 re_loss= 0.69247 train_acc= 0.00168 time= 0.01470\n",
      "Epoch: 0101 extra_loss= 0.00000 re_loss= 0.65123 train_acc= 0.00227 time= 0.01210\n",
      "Epoch: 0201 extra_loss= 0.00000 re_loss= 0.60469 train_acc= 0.00860 time= 0.01098\n",
      "Epoch: 0301 extra_loss= 0.00000 re_loss= 0.57156 train_acc= 0.02939 time= 0.01423\n",
      "Epoch: 0401 extra_loss= 0.00000 re_loss= 0.53989 train_acc= 0.06472 time= 0.01273\n",
      "Epoch: 0501 extra_loss= 0.00000 re_loss= 0.51318 train_acc= 0.12337 time= 0.01270\n",
      "Epoch: 0601 extra_loss= 0.02843 re_loss= 0.49638 train_acc= 0.20154 time= 0.01335\n",
      "Epoch: 0701 extra_loss= 0.02932 re_loss= 0.48116 train_acc= 0.28376 time= 0.01697\n",
      "Epoch: 0001 extra_loss= 0.00000 re_loss= 0.69250 train_acc= 0.00168 time= 0.01197\n",
      "Epoch: 0101 extra_loss= 0.00000 re_loss= 0.65120 train_acc= 0.00191 time= 0.01262\n",
      "Epoch: 0201 extra_loss= 0.00000 re_loss= 0.60483 train_acc= 0.00934 time= 0.01405\n",
      "Epoch: 0301 extra_loss= 0.00000 re_loss= 0.57094 train_acc= 0.03452 time= 0.01219\n",
      "Epoch: 0401 extra_loss= 0.00000 re_loss= 0.53915 train_acc= 0.07239 time= 0.01341\n",
      "Epoch: 0501 extra_loss= 0.00000 re_loss= 0.51290 train_acc= 0.13090 time= 0.01137\n",
      "Epoch: 0601 extra_loss= 0.02870 re_loss= 0.49614 train_acc= 0.21291 time= 0.01235\n",
      "Epoch: 0701 extra_loss= 0.02958 re_loss= 0.48127 train_acc= 0.29617 time= 0.01264\n"
     ]
    }
   ],
   "source": [
    "# base deep clustering training\n",
    "for idx, (adj,features,labels) in enumerate(snapshot_list):\n",
    "    model = model_init(adj, features.size(1), args)\n",
    "    model_list.append(model)\n",
    "    \n",
    "    base_train(model, features, adj, args, str(idx))\n",
    "    with torch.no_grad():\n",
    "        # if network_type == \"SDCN\":\n",
    "        #     _, Q, _, Z = model(features,adj)\n",
    "        # else:\n",
    "        _, Z, Q = model(features,adj)\n",
    "        results_raw.append([\n",
    "            Z.cpu().detach().numpy(),\n",
    "            Q.cpu().detach().numpy(),\n",
    "            adj, labels\n",
    "        ])\n",
    "        # record dgm at each time step\n",
    "        community_graph = build_community_graph(Q,adj)\n",
    "        dgm0 = wrcf_layer_dim0(community_graph)\n",
    "        dgm1 = wrcf_layer_dim1(community_graph)\n",
    "        dgm_list.append([dgm0,dgm1])"
   ]
  },
  {
   "cell_type": "code",
   "execution_count": 74,
   "id": "b849eeb2",
   "metadata": {},
   "outputs": [
    {
     "name": "stdout",
     "output_type": "stream",
     "text": [
      "Epoch: 0001 extra_loss= 0.00007 re_loss= 0.48054 train_acc= 0.29211 time= 0.38928\n",
      "Epoch: 0101 extra_loss= 0.00005 re_loss= 0.46433 train_acc= 0.38962 time= 0.35626\n",
      "Epoch: 0201 extra_loss= 0.00006 re_loss= 0.45230 train_acc= 0.49112 time= 0.32645\n",
      "Epoch: 0301 extra_loss= 0.00005 re_loss= 0.44307 train_acc= 0.57908 time= 0.29766\n",
      "Epoch: 0401 extra_loss= 0.00005 re_loss= 0.43590 train_acc= 0.64355 time= 0.28462\n",
      "Epoch: 0501 extra_loss= 0.00004 re_loss= 0.43010 train_acc= 0.69085 time= 0.30305\n",
      "Epoch: 0601 extra_loss= 0.00005 re_loss= 0.42515 train_acc= 0.72863 time= 0.28463\n",
      "Epoch: 0701 extra_loss= 0.00004 re_loss= 0.42083 train_acc= 0.75709 time= 0.27432\n",
      "Epoch: 0001 extra_loss= 0.00014 re_loss= 0.48171 train_acc= 0.28502 time= 0.32112\n",
      "Epoch: 0101 extra_loss= 0.00013 re_loss= 0.46561 train_acc= 0.37948 time= 0.33840\n",
      "Epoch: 0201 extra_loss= 0.00012 re_loss= 0.45346 train_acc= 0.47969 time= 0.37362\n",
      "Epoch: 0301 extra_loss= 0.00013 re_loss= 0.44394 train_acc= 0.56930 time= 0.39296\n",
      "Epoch: 0401 extra_loss= 0.00012 re_loss= 0.43649 train_acc= 0.63427 time= 0.32621\n",
      "Epoch: 0501 extra_loss= 0.00013 re_loss= 0.43038 train_acc= 0.68441 time= 0.32604\n",
      "Epoch: 0601 extra_loss= 0.00012 re_loss= 0.42515 train_acc= 0.72137 time= 0.33179\n",
      "Epoch: 0701 extra_loss= 0.00012 re_loss= 0.42053 train_acc= 0.75270 time= 0.31858\n",
      "Epoch: 0001 extra_loss= 0.00012 re_loss= 0.48103 train_acc= 0.28468 time= 0.34916\n",
      "Epoch: 0101 extra_loss= 0.00009 re_loss= 0.46478 train_acc= 0.38149 time= 0.33123\n",
      "Epoch: 0201 extra_loss= 0.00009 re_loss= 0.45262 train_acc= 0.48501 time= 1895.29930\n",
      "Epoch: 0301 extra_loss= 0.00009 re_loss= 0.44323 train_acc= 0.57630 time= 0.31916\n",
      "Epoch: 0401 extra_loss= 0.00009 re_loss= 0.43598 train_acc= 0.64110 time= 0.28482\n",
      "Epoch: 0501 extra_loss= 0.00010 re_loss= 0.42996 train_acc= 0.68832 time= 0.36100\n",
      "Epoch: 0601 extra_loss= 0.00008 re_loss= 0.42481 train_acc= 0.72773 time= 0.29761\n",
      "Epoch: 0701 extra_loss= 0.00009 re_loss= 0.42033 train_acc= 0.75753 time= 0.29023\n",
      "Epoch: 0001 extra_loss= 0.00004 re_loss= 0.48114 train_acc= 0.29699 time= 3650.38417\n",
      "Epoch: 0101 extra_loss= 0.00004 re_loss= 0.46525 train_acc= 0.38758 time= 0.34547\n",
      "Epoch: 0201 extra_loss= 0.00003 re_loss= 0.45349 train_acc= 0.48361 time= 0.29943\n",
      "Epoch: 0301 extra_loss= 0.00004 re_loss= 0.44423 train_acc= 0.56972 time= 0.30340\n",
      "Epoch: 0401 extra_loss= 0.00004 re_loss= 0.43696 train_acc= 0.63168 time= 0.38048\n",
      "Epoch: 0501 extra_loss= 0.00003 re_loss= 0.43089 train_acc= 0.68074 time= 0.28138\n",
      "Epoch: 0601 extra_loss= 0.00004 re_loss= 0.42568 train_acc= 0.71949 time= 0.26528\n",
      "Epoch: 0701 extra_loss= 0.00004 re_loss= 0.42107 train_acc= 0.74988 time= 0.28509\n"
     ]
    }
   ],
   "source": [
    "# topological regulaized training\n",
    "for t in range(len(snapshot_list)):\n",
    "    m = model_list[t]\n",
    "    adj,features,labels = snapshot_list[t]\n",
    "    if t == 0:\n",
    "        gt_dgm = [None, dgm_list[t+1]]\n",
    "    elif t == len(snapshot_list)-1: \n",
    "        gt_dgm = [dgm_list[t-1], None]\n",
    "    else:\n",
    "        gt_dgm = [dgm_list[t-1],dgm_list[t+1]]\n",
    "    retrain_with_topo(m, gt_dgm, adj, features, args, str(t))\n",
    "    with torch.no_grad():\n",
    "        # if network_type == \"SDCN\":\n",
    "        #     _, Q, _, Z = m(features,adj)\n",
    "        # else:\n",
    "        _, Z, Q = m(features,adj)\n",
    "        results_topo.append([\n",
    "            Z.cpu().detach().numpy(),\n",
    "            Q.cpu().detach().numpy(),\n",
    "            adj,labels\n",
    "        ])\n",
    "        # update dgm at time \n",
    "        community_graph = build_community_graph(Q,adj)\n",
    "        dgm0_new = wrcf_layer_dim0(community_graph)\n",
    "        dgm1_new = wrcf_layer_dim1(community_graph)\n",
    "        dgm_list[t] = [dgm0_new,dgm1_new]"
   ]
  },
  {
   "cell_type": "code",
   "execution_count": null,
   "id": "4046a06c",
   "metadata": {},
   "outputs": [],
   "source": [
    "import processor.metrics as pr_metrics\n",
    "\n",
    "# ================= Metrics (Modularity & Conductance) =================\n",
    "def _hard_clusters_from_Q(Q_np: np.ndarray) -> np.ndarray:\n",
    "    return np.argmax(Q_np, axis=1)\n",
    "\n",
    "def compute_metrics_time_series(results):\n",
    "    modularity_ts = []\n",
    "    conductance_ts = []\n",
    "    modularity_gt_ts = []\n",
    "    conductance_gt_ts = []\n",
    "    for Z_np, Q_np, adj_sp, labels in results:\n",
    "        clusters_pred = _hard_clusters_from_Q(Q_np)\n",
    "        labels_np = np.asarray(labels)\n",
    "        # adjacency is scipy.sparse (coo); metrics.* expects sparse\n",
    "        mod_pred = pr_metrics.modularity(adj_sp, clusters_pred)\n",
    "        cond_pred = pr_metrics.conductance(adj_sp, clusters_pred)\n",
    "        modularity_ts.append(float(mod_pred))\n",
    "        conductance_ts.append(float(cond_pred))\n",
    "        # also compute against provided labels for reference\n",
    "        mod_gt = pr_metrics.modularity(adj_sp, labels_np)\n",
    "        cond_gt = pr_metrics.conductance(adj_sp, labels_np)\n",
    "        modularity_gt_ts.append(float(mod_gt))\n",
    "        conductance_gt_ts.append(float(cond_gt))\n",
    "    return {\n",
    "        \"modularity\": modularity_ts,\n",
    "        \"conductance\": conductance_ts,\n",
    "        \"modularity_gt\": modularity_gt_ts,\n",
    "        \"conductance_gt\": conductance_gt_ts,\n",
    "        \"modularity_mean\": float(np.mean(modularity_ts)),\n",
    "        \"conductance_mean\": float(np.mean(conductance_ts)),\n",
    "        \"modularity_gt_mean\": float(np.mean(modularity_gt_ts)),\n",
    "        \"conductance_gt_mean\": float(np.mean(conductance_gt_ts)),\n",
    "    }"
   ]
  },
  {
   "cell_type": "code",
   "execution_count": null,
   "id": "eb133399",
   "metadata": {},
   "outputs": [],
   "source": [
    "metrics_base = compute_metrics_time_series(results_raw)\n",
    "metrics_topo = compute_metrics_time_series(results_topo)"
   ]
  },
  {
   "cell_type": "code",
   "execution_count": null,
   "id": "52b27f69",
   "metadata": {},
   "outputs": [
    {
     "data": {
      "text/plain": [
       "{'modularity': [0.6254347401071695,\n",
       "  0.6327878477828665,\n",
       "  0.6365867697841664,\n",
       "  0.6330318787661444],\n",
       " 'conductance': [0.33286516853932585,\n",
       "  0.32525629077353213,\n",
       "  0.3235294117647059,\n",
       "  0.32680652680652683],\n",
       " 'modularity_gt': [0.8386057763119134,\n",
       "  0.8368505005953988,\n",
       "  0.8379323406922682,\n",
       "  0.8379464358485337],\n",
       " 'conductance_gt': [0.012640449438202247,\n",
       "  0.013513513513513514,\n",
       "  0.013071895424836602,\n",
       "  0.012587412587412588],\n",
       " 'modularity_mean': 0.6319603091100867,\n",
       " 'conductance_mean': 0.32711434947102264,\n",
       " 'modularity_gt_mean': 0.8378337633620285,\n",
       " 'conductance_gt_mean': 0.012953317740991238}"
      ]
     },
     "execution_count": 76,
     "metadata": {},
     "output_type": "execute_result"
    }
   ],
   "source": [
    "\n",
    "metrics_base"
   ]
  },
  {
   "cell_type": "code",
   "execution_count": 77,
   "id": "1fc49fe2",
   "metadata": {},
   "outputs": [
    {
     "data": {
      "text/plain": [
       "{'modularity': [0.6283104686557534,\n",
       "  0.6282854423018965,\n",
       "  0.6473568730324373,\n",
       "  0.6530068843355556],\n",
       " 'conductance': [0.32771535580524347,\n",
       "  0.3294501397949674,\n",
       "  0.3118580765639589,\n",
       "  0.303962703962704],\n",
       " 'modularity_gt': [0.8386057763119134,\n",
       "  0.8368505005953988,\n",
       "  0.8379323406922682,\n",
       "  0.8379464358485337],\n",
       " 'conductance_gt': [0.012640449438202247,\n",
       "  0.013513513513513514,\n",
       "  0.013071895424836602,\n",
       "  0.012587412587412588],\n",
       " 'modularity_mean': 0.6392399170814107,\n",
       " 'conductance_mean': 0.31824656903171844,\n",
       " 'modularity_gt_mean': 0.8378337633620285,\n",
       " 'conductance_gt_mean': 0.012953317740991238}"
      ]
     },
     "execution_count": 77,
     "metadata": {},
     "output_type": "execute_result"
    }
   ],
   "source": [
    "metrics_topo"
   ]
  }
 ],
 "metadata": {
  "kernelspec": {
   "display_name": "research",
   "language": "python",
   "name": "python3"
  },
  "language_info": {
   "codemirror_mode": {
    "name": "ipython",
    "version": 3
   },
   "file_extension": ".py",
   "mimetype": "text/x-python",
   "name": "python",
   "nbconvert_exporter": "python",
   "pygments_lexer": "ipython3",
   "version": "3.12.0"
  }
 },
 "nbformat": 4,
 "nbformat_minor": 5
}
